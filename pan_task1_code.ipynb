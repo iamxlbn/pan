{
 "cells": [
  {
   "cell_type": "code",
   "execution_count": 1,
   "id": "a37318c6",
   "metadata": {},
   "outputs": [],
   "source": [
    "import pandas as pd\n",
    "import numpy as np\n",
    "import os\n",
    "from tqdm import tqdm\n",
    "import pandas as pd\n",
    "from sklearn.pipeline import Pipeline\n",
    "from sklearn.feature_extraction.text import TfidfVectorizer\n",
    "from sklearn.svm import LinearSVC\n",
    "from sklearn.metrics import classification_report, confusion_matrix,accuracy_score\n",
    "import matplotlib.pyplot as plt\n",
    "import seaborn as sns\n",
    "dataset_path = 'datasets'"
   ]
  },
  {
   "cell_type": "code",
   "execution_count": 2,
   "id": "0b6cc1dc",
   "metadata": {},
   "outputs": [],
   "source": [
    "def get_data(train_path, dev_path, test_path, random_seed):\n",
    "    \"\"\"\n",
    "    function to read dataframe with columns\n",
    "    \"\"\"\n",
    "\n",
    "    train_df = pd.read_json(train_path, lines=True)\n",
    "    val_df = pd.read_json(dev_path, lines=True)\n",
    "    # test_df = pd.read_json(test_path, lines=True)\n",
    "\n",
    "    return train_df, val_df\n",
    "\n",
    "train_df, valid_df = get_data(train_path=os.path.join(dataset_path, \"train.jsonl\"),dev_path=os.path.join(dataset_path, \"val.jsonl\"),test_path=None, random_seed=42)"
   ]
  },
  {
   "cell_type": "code",
   "execution_count": 3,
   "id": "ee024210",
   "metadata": {},
   "outputs": [
    {
     "name": "stdout",
     "output_type": "stream",
     "text": [
      "Train DataFrame shape: (23707, 5)\n",
      "Validation DataFrame shape: (3589, 5)\n",
      "Train DataFrame:\n",
      "                                     id  \\\n",
      "0  ea468d03-1973-5039-86b2-ff225bb92c4e   \n",
      "1  0d05f269-6d67-521d-9b5d-cc18f482c6c1   \n",
      "2  c2ec79f3-da80-58f8-bef0-3e0ea7ab072f   \n",
      "3  4ad37c58-0bb7-536b-997d-cfccabd0d094   \n",
      "4  07747b0c-5051-5e0d-8096-b4d4ed8bd98e   \n",
      "\n",
      "                                                text  \\\n",
      "0  Duke Ellington, a titan of jazz, revolutionize...   \n",
      "1  I reflected on the shifting dynamics of media ...   \n",
      "2  In F. Scott Fitzgerald's \"The Great Gatsby,\" t...   \n",
      "3  I still chuckle when I think about that time I...   \n",
      "4  Yoga, originating in ancient India, encompasse...   \n",
      "\n",
      "                          model  label   genre  \n",
      "0          falcon3-10b-instruct      1  essays  \n",
      "1                       o3-mini      1  essays  \n",
      "2                        gpt-4o      1  essays  \n",
      "3  deepseek-r1-distill-qwen-32b      1  essays  \n",
      "4              gemini-2.0-flash      1  essays  \n",
      "Validation DataFrame:\n",
      "                                     id  \\\n",
      "0  7caf42b9-fd48-5e97-a0d0-0ae28a1f9603   \n",
      "1  28b61fc4-e82b-5cf8-bc34-1ecdb7182993   \n",
      "2  22398c76-da72-5724-973e-0981b8e9cbee   \n",
      "3  3cd1e50d-e1f0-5f8f-bfb8-0b8a6048bcaa   \n",
      "4  6e5745a6-0335-50cc-bdf0-fa0e1fee7518   \n",
      "\n",
      "                                                text                   model  \\\n",
      "0  In William Faulkner's \"The Sound and the Fury,...                  gpt-4o   \n",
      "1  Manipulation, a profound and pervasive theme i...         gpt-4.5-preview   \n",
      "2  Edna's journey is a testament to her rebellion...  llama-3.3-70b-instruct   \n",
      "3  There are three main aspects of the gun contro...                   human   \n",
      "4  During the Portuguese colonial period in Angol...                  gpt-4o   \n",
      "\n",
      "   label   genre  \n",
      "0      1  essays  \n",
      "1      1  essays  \n",
      "2      1  essays  \n",
      "3      0  essays  \n",
      "4      1  essays  \n"
     ]
    }
   ],
   "source": [
    "# Remove rows with NaN values in the 'text' column\n",
    "train_df = train_df.dropna(subset=['text'])\n",
    "valid_df = valid_df.dropna(subset=['text'])\n",
    "# show the number of rows and columns in the dataframe\n",
    "print(f\"Train DataFrame shape: {train_df.shape}\")\n",
    "print(f\"Validation DataFrame shape: {valid_df.shape}\")\n",
    "# show the first few rows of the dataframe\n",
    "print(\"Train DataFrame:\")\n",
    "print(train_df.head())\n",
    "print(\"Validation DataFrame:\")\n",
    "print(valid_df.head())"
   ]
  },
  {
   "cell_type": "code",
   "execution_count": 4,
   "id": "d5d0daed",
   "metadata": {},
   "outputs": [],
   "source": [
    "# 1. 准备数据（假设 train_df 和 test_df 已在内存中）\n",
    "X_train = train_df['text'].fillna(\"\").tolist()\n",
    "y_train = train_df['label'].tolist()\n",
    "\n",
    "X_val = valid_df['text'].fillna(\"\")\n",
    "y_val = valid_df['label']\n"
   ]
  },
  {
   "cell_type": "code",
   "execution_count": null,
   "id": "ab7a5e33",
   "metadata": {},
   "outputs": [
    {
     "ename": "TypeError",
     "evalue": "CalibratedClassifierCV.__init__() got an unexpected keyword argument 'base_estimator'",
     "output_type": "error",
     "traceback": [
      "\u001b[1;31m---------------------------------------------------------------------------\u001b[0m",
      "\u001b[1;31mTypeError\u001b[0m                                 Traceback (most recent call last)",
      "Cell \u001b[1;32mIn[7], line 18\u001b[0m\n\u001b[0;32m      6\u001b[0m \u001b[38;5;28;01mfrom\u001b[39;00m\u001b[38;5;250m \u001b[39m\u001b[38;5;21;01msklearn\u001b[39;00m\u001b[38;5;21;01m.\u001b[39;00m\u001b[38;5;21;01mmodel_selection\u001b[39;00m\u001b[38;5;250m \u001b[39m\u001b[38;5;28;01mimport\u001b[39;00m train_test_split\n\u001b[0;32m      9\u001b[0m \u001b[38;5;66;03m# 创建 pipeline\u001b[39;00m\n\u001b[0;32m     10\u001b[0m pipeline \u001b[38;5;241m=\u001b[39m Pipeline([\n\u001b[0;32m     11\u001b[0m     (\u001b[38;5;124m'\u001b[39m\u001b[38;5;124mtfidf\u001b[39m\u001b[38;5;124m'\u001b[39m, TfidfVectorizer(\n\u001b[0;32m     12\u001b[0m         max_features\u001b[38;5;241m=\u001b[39m\u001b[38;5;241m5000\u001b[39m,\n\u001b[0;32m     13\u001b[0m         ngram_range\u001b[38;5;241m=\u001b[39m(\u001b[38;5;241m1\u001b[39m, \u001b[38;5;241m1\u001b[39m),\n\u001b[0;32m     14\u001b[0m         sublinear_tf\u001b[38;5;241m=\u001b[39m\u001b[38;5;28;01mTrue\u001b[39;00m,\n\u001b[0;32m     15\u001b[0m         use_idf\u001b[38;5;241m=\u001b[39m\u001b[38;5;28;01mFalse\u001b[39;00m,\n\u001b[0;32m     16\u001b[0m         stop_words\u001b[38;5;241m=\u001b[39m\u001b[38;5;124m'\u001b[39m\u001b[38;5;124menglish\u001b[39m\u001b[38;5;124m'\u001b[39m\n\u001b[0;32m     17\u001b[0m     )),\n\u001b[1;32m---> 18\u001b[0m     (\u001b[38;5;124m'\u001b[39m\u001b[38;5;124mclf\u001b[39m\u001b[38;5;124m'\u001b[39m, \u001b[43mCalibratedClassifierCV\u001b[49m\u001b[43m(\u001b[49m\n\u001b[0;32m     19\u001b[0m \u001b[43m        \u001b[49m\u001b[43mbase_estimator\u001b[49m\u001b[38;5;241;43m=\u001b[39;49m\u001b[43mLinearSVC\u001b[49m\u001b[43m(\u001b[49m\n\u001b[0;32m     20\u001b[0m \u001b[43m            \u001b[49m\u001b[43mC\u001b[49m\u001b[38;5;241;43m=\u001b[39;49m\u001b[38;5;241;43m1.0\u001b[39;49m\u001b[43m,\u001b[49m\u001b[43m \u001b[49m\u001b[38;5;66;43;03m# 线性SVM的正则化参数\u001b[39;49;00m\n\u001b[0;32m     21\u001b[0m \u001b[43m            \u001b[49m\u001b[43mclass_weight\u001b[49m\u001b[38;5;241;43m=\u001b[39;49m\u001b[38;5;124;43m'\u001b[39;49m\u001b[38;5;124;43mbalanced\u001b[39;49m\u001b[38;5;124;43m'\u001b[39;49m\u001b[43m,\u001b[49m\n\u001b[0;32m     22\u001b[0m \u001b[43m            \u001b[49m\u001b[43mloss\u001b[49m\u001b[38;5;241;43m=\u001b[39;49m\u001b[38;5;124;43m'\u001b[39;49m\u001b[38;5;124;43msquared_hinge\u001b[39;49m\u001b[38;5;124;43m'\u001b[39;49m\u001b[43m,\u001b[49m\n\u001b[0;32m     23\u001b[0m \u001b[43m            \u001b[49m\u001b[43mdual\u001b[49m\u001b[38;5;241;43m=\u001b[39;49m\u001b[38;5;28;43;01mFalse\u001b[39;49;00m\u001b[43m,\u001b[49m\n\u001b[0;32m     24\u001b[0m \u001b[43m            \u001b[49m\u001b[43mmax_iter\u001b[49m\u001b[38;5;241;43m=\u001b[39;49m\u001b[38;5;241;43m1000\u001b[39;49m\u001b[43m,\u001b[49m\n\u001b[0;32m     25\u001b[0m \u001b[43m            \u001b[49m\u001b[43mrandom_state\u001b[49m\u001b[38;5;241;43m=\u001b[39;49m\u001b[38;5;241;43m42\u001b[39;49m\n\u001b[0;32m     26\u001b[0m \u001b[43m        \u001b[49m\u001b[43m)\u001b[49m\u001b[43m,\u001b[49m\n\u001b[0;32m     27\u001b[0m \u001b[43m        \u001b[49m\u001b[43mmethod\u001b[49m\u001b[38;5;241;43m=\u001b[39;49m\u001b[38;5;124;43m'\u001b[39;49m\u001b[38;5;124;43msigmoid\u001b[39;49m\u001b[38;5;124;43m'\u001b[39;49m\u001b[43m,\u001b[49m\u001b[43m  \u001b[49m\u001b[38;5;66;43;03m# 或 'isotonic'，通常 sigmoid 更快\u001b[39;49;00m\n\u001b[0;32m     28\u001b[0m \u001b[43m        \u001b[49m\u001b[43mcv\u001b[49m\u001b[38;5;241;43m=\u001b[39;49m\u001b[38;5;241;43m3\u001b[39;49m\u001b[43m  \u001b[49m\u001b[38;5;66;43;03m# 内部交叉验证用于拟合概率\u001b[39;49;00m\n\u001b[0;32m     29\u001b[0m \u001b[43m    \u001b[49m\u001b[43m)\u001b[49m)\n\u001b[0;32m     30\u001b[0m ])\n\u001b[0;32m     32\u001b[0m \u001b[38;5;66;03m# 训练模型\u001b[39;00m\n\u001b[0;32m     33\u001b[0m pipeline\u001b[38;5;241m.\u001b[39mfit(X_train, y_train)\n",
      "\u001b[1;31mTypeError\u001b[0m: CalibratedClassifierCV.__init__() got an unexpected keyword argument 'base_estimator'"
     ]
    }
   ],
   "source": [
    "from sklearn.feature_extraction.text import TfidfVectorizer\n",
    "from sklearn.svm import LinearSVC\n",
    "from sklearn.calibration import CalibratedClassifierCV\n",
    "from sklearn.pipeline import Pipeline\n",
    "from sklearn.metrics import accuracy_score, roc_auc_score, brier_score_loss, f1_score\n",
    "from sklearn.model_selection import train_test_split\n",
    "\n",
    "\n",
    "# 创建 pipeline\n",
    "pipeline = Pipeline([\n",
    "    ('tfidf', TfidfVectorizer(\n",
    "        max_features=5000,\n",
    "        ngram_range=(1, 1),\n",
    "        sublinear_tf=True,\n",
    "        use_idf=False,\n",
    "        stop_words='english'\n",
    "    )),\n",
    "    ('clf', CalibratedClassifierCV(\n",
    "        estimator=LinearSVC(\n",
    "            C=1.0, # 线性SVM的正则化参数\n",
    "            class_weight='balanced',\n",
    "            loss='squared_hinge',\n",
    "            dual=False,\n",
    "            max_iter=1000,\n",
    "            random_state=42\n",
    "        ),\n",
    "        method='sigmoid',  # 或 'isotonic'，通常 sigmoid 更快\n",
    "        cv=3  # 内部交叉验证用于拟合概率\n",
    "    ))\n",
    "])\n",
    "\n",
    "# 训练模型\n",
    "pipeline.fit(X_train, y_train)"
   ]
  }
 ],
 "metadata": {
  "kernelspec": {
   "display_name": "pantask1",
   "language": "python",
   "name": "python3"
  },
  "language_info": {
   "codemirror_mode": {
    "name": "ipython",
    "version": 3
   },
   "file_extension": ".py",
   "mimetype": "text/x-python",
   "name": "python",
   "nbconvert_exporter": "python",
   "pygments_lexer": "ipython3",
   "version": "3.10.17"
  }
 },
 "nbformat": 4,
 "nbformat_minor": 5
}
